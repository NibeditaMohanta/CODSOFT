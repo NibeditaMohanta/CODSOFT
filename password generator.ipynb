{
 "cells": [
  {
   "cell_type": "code",
   "execution_count": null,
   "id": "e09f22f9-5d80-4f69-9fb5-f8d5dfc67cab",
   "metadata": {},
   "outputs": [],
   "source": [
    "#password generator\n",
    "\n",
    "import random \n",
    "import string\n",
    "def generate_password(length):\n",
    "    if length < 4:\n",
    "        print(\"Password Length should ber at least 4 characters.\")\n",
    "        return None\n",
    "\n",
    "    lower=string.ascii_lowercase\n",
    "    upper=string.ascii_uppercase\n",
    "    digits=string.digits\n",
    "    symbols=string.punctuation\n",
    "    password=[\n",
    "        random.choice(lower),\n",
    "        random.choice(upper),\n",
    "        random.choice(digits),\n",
    "        random.choice(symbols)\n",
    "    ]\n",
    "\n",
    "    all_chars=lower+ upper + digits + symbols\n",
    "    password +=random.choices(all_chars,k=length-4)\n",
    "    random.shuffle(password)\n",
    "    return ''.join(password)\n",
    "\n",
    "def display_password(password):\n",
    "    if password :\n",
    "        print(f\"Generated Password :{password}\")\n",
    "\n",
    "\n",
    "\n",
    "try:\n",
    "    user_input= int(input(\"Enter the desired password length: \"))\n",
    "    pwd= generate_password(user_input)\n",
    "    display_password(pwd)\n",
    "except ValueError:\n",
    "    print(\"Please enter a valid number.\")"
   ]
  }
 ],
 "metadata": {
  "kernelspec": {
   "display_name": "Python [conda env:base] *",
   "language": "python",
   "name": "conda-base-py"
  },
  "language_info": {
   "codemirror_mode": {
    "name": "ipython",
    "version": 3
   },
   "file_extension": ".py",
   "mimetype": "text/x-python",
   "name": "python",
   "nbconvert_exporter": "python",
   "pygments_lexer": "ipython3",
   "version": "3.12.7"
  }
 },
 "nbformat": 4,
 "nbformat_minor": 5
}
