{
 "cells": [
  {
   "cell_type": "code",
   "execution_count": 1,
   "id": "a4e435b0-b1d7-420d-8113-d687e93205e1",
   "metadata": {},
   "outputs": [
    {
     "name": "stdout",
     "output_type": "stream",
     "text": [
      "Simple Calculator\n",
      "Select operation:\n",
      "1. ADD\n",
      "2. SUBTRACT\n",
      "3. MULTIPLY\n",
      "4. DIVIDE\n"
     ]
    },
    {
     "name": "stdin",
     "output_type": "stream",
     "text": [
      "Enter first number:  1\n",
      "Enter second number:  34\n",
      "Enter the operation(1/2/3/4): 1\n"
     ]
    },
    {
     "name": "stdout",
     "output_type": "stream",
     "text": [
      "1.0+34.0 = 35.0\n"
     ]
    }
   ],
   "source": [
    "#dynamic programming in python\n",
    "#simple calculator\n",
    "\n",
    "\n",
    "def calculator():\n",
    "    print(\"Simple Calculator\")\n",
    "    print(\"Select operation:\")\n",
    "    print(\"1. ADD\")\n",
    "    print(\"2. SUBTRACT\")\n",
    "    print(\"3. MULTIPLY\")\n",
    "    print(\"4. DIVIDE\")\n",
    "          \n",
    "    num1 = float(input(\"Enter first number: \"))\n",
    "    num2 = float(input(\"Enter second number: \"))\n",
    "    choice = input(\"Enter the operation(1/2/3/4):\")\n",
    "\n",
    "    if choice == '1':\n",
    "       result = num1 + num2\n",
    "       operation = \"+\"\n",
    "    elif choice == '2':\n",
    "         result = num1 - num2\n",
    "         operation = \"-\"\n",
    "    elif choice == '3':\n",
    "         result = num1 * num2\n",
    "         operation = \"*\"\n",
    "    elif choice == '4':\n",
    "      if num2!= 0:\n",
    "         result = num1 / num2\n",
    "         operation = \"/\"\n",
    "      else:\n",
    "         print(\"Error: Dividion by zero not allowed.\")\n",
    "         return\n",
    "    else:\n",
    "         print(\"Invalid input\")\n",
    "         return\n",
    "\n",
    "    print(f\"{num1}{operation}{num2} = {result}\")\n",
    "calculator()\n"
   ]
  },
  {
   "cell_type": "code",
   "execution_count": null,
   "id": "10c9f831-1ff6-4be1-a9e3-6f9db3be684d",
   "metadata": {},
   "outputs": [],
   "source": []
  }
 ],
 "metadata": {
  "kernelspec": {
   "display_name": "Python [conda env:base] *",
   "language": "python",
   "name": "conda-base-py"
  },
  "language_info": {
   "codemirror_mode": {
    "name": "ipython",
    "version": 3
   },
   "file_extension": ".py",
   "mimetype": "text/x-python",
   "name": "python",
   "nbconvert_exporter": "python",
   "pygments_lexer": "ipython3",
   "version": "3.12.7"
  }
 },
 "nbformat": 4,
 "nbformat_minor": 5
}
